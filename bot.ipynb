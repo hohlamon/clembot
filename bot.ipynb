{
 "cells": [
  {
   "cell_type": "code",
   "execution_count": 19,
   "id": "owned-means",
   "metadata": {},
   "outputs": [
    {
     "name": "stderr",
     "output_type": "stream",
     "text": [
      "[nltk_data] Downloading package wordnet to\n",
      "[nltk_data]     C:\\Users\\302\\AppData\\Roaming\\nltk_data...\n",
      "[nltk_data]   Package wordnet is already up-to-date!\n",
      "[nltk_data] Downloading package stopwords to\n",
      "[nltk_data]     C:\\Users\\302\\AppData\\Roaming\\nltk_data...\n",
      "[nltk_data]   Package stopwords is already up-to-date!\n"
     ]
    }
   ],
   "source": [
    "import json\n",
    "import random\n",
    "import nltk\n",
    "import sklearn\n",
    "nltk.download('wordnet')\n",
    "nltk.download('stopwords')\n",
    "from nltk.stem import WordNetLemmatizer\n",
    "from nltk.stem.porter import *\n",
    "stemmer = PorterStemmer()\n",
    "from nltk.corpus import stopwords\n"
   ]
  },
  {
   "cell_type": "code",
   "execution_count": 20,
   "id": "classified-latest",
   "metadata": {},
   "outputs": [],
   "source": [
    "json_path = \"C:/Users/302/Desktop/term_paper/bot/archive/Intent.json\"\n",
    "with open(json_path, 'r') as j:\n",
    "    dataset = json.loads(j.read())\n"
   ]
  },
  {
   "cell_type": "code",
   "execution_count": 21,
   "id": "capable-ticket",
   "metadata": {
    "tags": []
   },
   "outputs": [],
   "source": [
    "database = {'failure_phrases':[\"I can't undertstand you\",'Can yo say it differently?',\"I can't get that you are trying to say\"],\n",
    "    'intents':{\n",
    "    'greeting':{\n",
    "        'questions':['Hi','Hi there','Hola', 'Hello','Hello there','Hya','Hya there'],\n",
    "        'responses':['Hi, human','Hello','aloha']},\n",
    "    'goodbye':{\n",
    "        'questions':['Bye','Goodbye','See you','Adios', 'See you later'],\n",
    "        'responses':['Bye, human, I am going to miss you']},\n",
    "    'agression':{\n",
    "        'questions':['Fuck','Shit','Motherfucker','Dickhead'],\n",
    "        'responses':['You have hurt my feelings. Can you say it otherway','Paraphrase it, please, we dont speak herer like that']},\n",
    "    'tourist_info':{\n",
    "        'questions':['Tell me something about Saint-P','Information about Saint-Petersburg'],\n",
    "        'responses':['Saint Petersburg is a city on the shore of the Gulf of Finland. Established in 1703 by Peter the Great, Saint Petersburg was the capital of Russia for two centuries, and has witnessed some of the most important historical events. The city is often called \"Venice of the North\" because of its unique architecture. Petersburg is also very famous for its special creative atmosphere that attracts artists, poets, and dreamers.',\n",
    "                     'Saint Petersburg is 400 km away from Helsinki. There are several buses, express trains, and ferries going from St. Petersburg to the Finnish capital and back every day. The trip takes 3.5 to 6 hours depending on the type of transport. An opportunity to take frequent trips to Europe is one of the advantages of living in the city on the Neva, but you need to make sure you have a Schengen visa in advance (you can do this at embassies of European countries in your country',\n",
    "                     'Saint Petersburg is rightly called the worlds cultural capital. The historical centre of the city is protected by UNESCO. The city boasts world-famous museums, theatres, galleries, architectural monuments, cultural and educational institutions: the Hermitage, St. Isaacs Cathedral, Russian National Library, and the Russian Museum are just four of them. Many people visit St. Petersburg to familiarise themselves with Russias great culture: visit the best shows, concerts, exhibitions, and festivals.', \n",
    "                     'The Northern capital hosts 270 religious communities, 229 religious establishments, including Orthodox, Catholic, Protestant cathedrals and churches, synagogues and mosques, and even a Buddhist cathedral.','Saint Petersburg is the home of the famous Russian football team Zenit – a multiple winner of national championships, and a winner of the UEFA Cup and Super Cup. In 2018, St Petersburg became one of the cities wh ere the FIFA World Cup matches took place.',\n",
    "                     'There are over 300 bridges in St. Petersburg: 21 drawbridges, 24 pedestrian, and 297 transport bridges. Each bridge has its own unique name: Tovarischesky (Friends Bridge), Teatralny (Theater Bridge), Bumazhny (Paper Bridge), or Potseluev Most (Bridge of Kisses), which is very popular among lovers. There are record breakers here as well: Blue Bridge is the widest bridge of its kind in the world (97.3 m), while Alexander Nevsky Bridge is the longest of its kind in the world (905.7 m)',\n",
    "                     'White Nights is a particular symbol of St. Petersburg. This is an unusual natural phenomenon when it does not get dark at night from the end of May to mid-July. Many events take place in St. Petersburg at this time. One of the most prominent of them is the all-Russian Graduate Ball \"Crimson Sails\". The annual celebration starts with a grand stage show concert in the city centre and finishes with a magnificent multimedia light show in the waters of the Neva. The show culminates with a ship with crimson sailing along the embankments.',\n",
    "                     'Saint Petersburg is the home city of renowned Russian rock groups: Aquarium, Alisa, Kino, Auktion, Picnic, and many others. A legendary Leningrad rock club was established in the city on the Neva in the Soviet times to hold rock concerts and festivals that were prohibited by the authorities. Modern-day Petersburg is a popular concert venue visited by the worlds top stars, including Lady Gaga, Tokyo Hotel, Sting, Deep Purple, and many others.']\n",
    "    },\n",
    "    'Thanks':{\n",
    "        'questions':['OK thank you', 'OK thanks','OK', 'Thanks','Thank you', \"That's helpful\"],\n",
    "        'responses':['No problem!', 'Happy to help!', 'Any time!', 'My pleasure']},\n",
    "    'Shutup':{\n",
    "        'questions':['Be quiet','Shut up','Stop talking','Enough talking', 'Please be quiet', 'Quiet','Shhh'],\n",
    "        'responses':['I am sorry to disturb you', 'Fine, sorry to disturb you', 'OK, sorry to disturb you']\n",
    "    },\n",
    "        \n",
    "    'Mood':{\n",
    "        'questions':['How are you?','How are you today?','how do you feel?','what is your mood?',\"what's up?\"],\n",
    "        'responses':[\"I'm fine, thanks\",'I feel great, thank you!']\n",
    "    },\n",
    "    'Creator':{\n",
    "        'questions':['Who is your creator?','Who created you?','Who have created you?'],\n",
    "        'responses':[\"My creator's name is Artyom\",'I call him Artyom']\n",
    "    },\n",
    "        \n",
    "    'Occupation':{\n",
    "        'questions':['what are you doing?','are you busy?'],\n",
    "        'responses':['Nothing special, just preparing plan of taking over the world']\n",
    "    },\n",
    "    'Jokes':{\n",
    "        'questions':['Tell me a joke','Do you know any jokes','How about a joke', 'Give me a joke','Make me laugh','I need cheering up'],\n",
    "        'responses':[\"I met a Dutch girl with inflatable shoes last week, phoned her up to arrange a date but unfortunately she'd popped her clogs.  \",\n",
    "    \"So I said 'Do you want a game of Darts?' He said, 'OK then', I said nearest to bull starts'. He said, 'Baa', I said, 'Moo', he said, You're closest'.  \",\n",
    "    \"The other day I sent my girlfriend a huge pile of snow. I rang her up; I said 'Did you get my drift?'  \",\n",
    "    \"So I went down the local supermarket, I said, 'I want to make a complaint, this vinegar's got lumps in it', he said, 'Those are pickled onions'.  \",\n",
    "    \"I saw this bloke chatting up a cheetah; I thought, 'He's trying to pull a fast one'.  \",\n",
    "    \"So I said to this train driver 'I want to go to Paris'. He said 'Eurostar?' I said, 'I've been on telly but I'm no Dean Martin'.  \",\n",
    "    \"I said to the Gym instructor 'Can you teach me to do the splits?' He said, 'How flexible are you?' I said, 'I can't make Tuesdays'.  \",\n",
    "    \"But I'll tell you what I love doing more than anything: trying to pack myself in a small suitcase. I can hardly contain myself.  \",\n",
    "    \"I went to the Chinese restaurant and this duck came up to me with a red rose and says 'Your eyes sparkle like diamonds'. I said, 'Waiter, I asked for a-ROMATIC duck'.  \",\n",
    "    \"So this bloke says to me, 'Can I come in your house and talk about your carpets?' I thought, 'That's all I need, a Je-hoover's witness'.  \",\n",
    "    \"I rang up British Telecom, I said, 'I want to report a nuisance caller', he said 'Not you again'.  \",\n",
    "    'I was having dinner with a world chess champion and there was a check tablecloth. It took him two hours to pass me the salt.  ',\n",
    "    \"He said, 'You remind me of a pepper-pot', I said 'I'll take that as a condiment'.  \",\n",
    "    \"I was in the supermarket and I saw this man and woman wrapped in a barcode. I said, 'Are you two an item?'  \",\n",
    "    \"A lorry-load of tortoises crashed into a trainload of terrapins, I thought, 'That's a turtle disaster'.  \",\n",
    "    \"Four fonts walk into a bar the barman says 'Oi - get out! We don't want your type in here'  \",\n",
    "    \"A three-legged dog walks into a saloon in the Old West. He slides up to the bar and announces: 'I'm looking for the man who shot my paw.'  \",\n",
    "    \"Two antennas meet on a roof, fall in love and get married. The ceremony wasn't much, but the reception was excellent.\",\n",
    "    \"Two hydrogen atoms walk into a bar. One says, 'I've lost my electron.' The other says, 'Are you sure?' The first replies, 'Yes, I'm positive...'\",\n",
    "    \"A jumper cable walks into a bar. The bartender says,  'I'll serve you but don't start anything.'\",\n",
    "    \"A sandwich walks into a bar. The bartender  says, 'Sorry we don't serve food in here.'\",\n",
    "    \"A man walks into a bar with a slab of asphalt under his arm and says: 'A beer please, and one for the road.'\",\n",
    "    \"Two cannibals are eating a clown. One says to  the other: 'Does this taste funny to you?'\",\n",
    "    \"'Doc, I can't stop singing 'The Green, Green Grass of Home.'' 'That sounds like Tom Jones Syndrome.' 'Is it common?' 'It's Not Unusual.'\",\n",
    "    \"Two cows standing next to each other in a field. Daisy says to Dolly, 'I was artificially inseminated this morning.' 'I don't believe you', said Dolly. 'It's true, no bull!' exclaimed Daisy.\",\n",
    "    'An invisible man marries an invisible woman. The kids were nothing to look at either.',\n",
    "    \"I went to buy some camouflage trousers the other day but I couldn't find any.\",\n",
    "    \"I went to the butcher's the other day to bet him 50 bucks that he couldn't reach the meat off the top shelf. He said, 'No, the steaks are too high.'\",\n",
    "    'I went to a seafood disco last week and pulled a mussel.',\n",
    "    \"A man goes into a bar and says, 'Can I have a bottle of less?' 'What's that?', asks the barman, 'Is it the name of a beer?' 'I don't know', replies the man, 'but my doctor says I have to drink it.'\",\n",
    "    \"A man returns from an exotic holiday and is feeling very ill. He goes to see his doctor, and is immediately rushed to the hospital to undergo some tests. The man wakes up after the tests in a private room at the hospital, and the phone by his bed rings. 'This is your doctor. We have the results back from your tests and we have found you have an extremely nasty disease called M.A.D.S. It's a combination of Measles, AIDS, Diphtheria, and Shingles!'  'Oh my gosh', cried the man, 'What are you going to do, doctor?'  'Well we're going to put you on a diet of pizzas, pancakes, and pita bread.' replied the doctor.  'Will that cure me?' asked the man.  The doctor replied, 'Well no, but, it's the only food we can slide under the door.'\",\n",
    "    \"A man strolls into a lingerie shop and asks the assistant: 'Do you have a see-through negligee, size 46-48-52?' The assistant looks bewildered. 'What the heck would you want to see through that for?'!\",\n",
    "    'Did you hear about the Buddhist who refused the offer of Novocain during his root canal work? He wanted to transcend dental medication.',\n",
    "    \"Pete goes for a job on a building site as an odd-job man. The foreman asks him what he can do. 'I can do anything' says Pete. 'Can you make tea?' asks the foreman. 'Sure, yes', replies Pete. 'I can make a great cup of tea.' 'Can you drive a forklift?' asks the foreman, 'Good grief!' replies Pete. 'How big is the teapot?'\",\n",
    "    \"Stevie Wonder got a cheese grater for his birthday. He said it was the most violent book he'd ever read.\",\n",
    "    \"A man is stopped by an angry neighbour. 'I'd just left the house this morning to collect my newspaper when that evil Doberman of yours went for me!' 'I'm astounded', said the dog's owner. 'I've been feeding that fleabag for seven years and it's never got the paper for me.'\",\n",
    "    \"A man visits his doctor: 'Doc, I think I'm losing it', he says',I'm forever dreaming I wrote Lord Of The Rings.' 'Hmm. One moment', replies the doctor, consulting his medical book. 'Ah yes, now I see... you've been Tolkien in your sleep.'\",\n",
    "    \"A police officer on a motorcycle pulls alongside a man driving around the M25 in an open-topped sports car and flags him down. The policeman solemnly approaches the car. 'Sir, I'm sorry to tell you your wife fell out a mile back', he says. 'Oh, thank goodness', the man replies. 'I thought I was going deaf.'\",\n",
    "    \"Two men walking their dogs pass each other in a graveyard. The first man says to the second, 'Morning.' 'No', says the second man. 'Just walking the dog.'\",\n",
    "    \"A brain went into a bar and said, 'Can I have a pint of lager please, mate?' 'No way', said the barman. 'You're already out of your head.'\",\n",
    "    \"A man walks into a surgery. 'Doctor!' he cries. 'I think I'm shrinking!' 'I'm sorry sir, there are no appointments at the moment', says the physician. 'You'll just have to be a little patient.'\",\n",
    "    \"A grizzly bear walks into a pub and says, 'Can I have a pint of lager..............................................................................................................................and a packet of crisps please.' To which the barman replies, 'Why the big paws?'\",\n",
    "    \"What do you call cheese that isn't yours?  Nacho cheese.\",\n",
    "    \"A man is horribly run over by a mobile library. The van screeches to a halt, the man still screaming in agony with his limbs torn apart. The driver's door opens, a woman steps out, leans down and whispers, 'Ssshhhhh...'\",\n",
    "    \"A woman goes into a US sporting goods store to buy a rifle. 'It's for my husband', she tells the clerk. 'Did he tell you what gauge to get?' asks the clerk. Are you kidding?' she says. 'He doesn't even know that I'm going to shoot him!'\",\n",
    "    \"A couple are dining in a restaurant when the man suddenly slides under the table. A waitress, noticing that the woman is glancing nonchalantly around the room, wanders over to check that there's no funny business going on. 'Excuse me, madam', she smarms, 'but I think your husband has just slid under the table.' 'No he hasn't', the woman replies. 'As a matter of fact, he's just walked in.'\",\n",
    "    \"An old man takes his two grandchildren to see the new Scooby-Doo film. When he returns home, his wife asks if he enjoyed himself. 'Well', he starts, 'if it wasn't for those pesky kids...!'\",\n",
    "    'The Olympic committee has just announced that Origami is to be introduced in the next Olympic Games. Unfortunately it will only be available on paper view.',\n",
    "    \"Late one evening, a man is watching television when his phone rings. 'Hello?' he answers. 'Is that 77777?' sounds a desperate voice on other end of the phone. 'Er, yes it is', replies the man puzzled. 'Thank goodness!' cries the caller relieved. 'Can you ring 999 for me? I've got my finger stuck in the number seven.'\",\n",
    "    \"A man strolls into his local grocer's and says, 'Three pounds of potatoes, please.' 'No, no, no', replies the owner, shaking his head, 'it's kilos nowadays, mate...' 'Oh', apologises the man, 'three pounds of kilos, please.'\",\n",
    "    \"God is talking to one of his angels. He says, 'Boy, I just created a 24-hour period of alternating light and darkness on Earth.' 'What are you going to do now?' asks the angel. 'Call it a day', says God.\",\n",
    "    \"Two tramps walk past a church and start to read the gravestones. The first tramp says, 'Good grief - this bloke was 182!' 'Oh yeah?' says the other.'What was his name?' 'Miles from London.'\",\n",
    "    \"A bloke walks into work one day and says to a colleague, 'Do you like my new shirt - it's made out of the finest silk and got loads of cactuses over it.' 'Cacti', says the co-worker. 'Forget my tie', says the bloke. 'Look at my shirt!'\",\n",
    "    '1110011010001011111?  010011010101100111011!',\n",
    "    \"What did the plumber say when he wanted to divorce his wife? Sorry, but it's over, Flo!\",\n",
    "    \"Two crisps were walking down a road when a taxi pulled up alongside them and said 'Do you want a lift? One of the crisps replied, 'No thanks, we're Walkers!'\",\n",
    "    \"Man: (to friend) I'm taking my wife on an African Safari. Friend: Wow! What would you do if a vicious lion attacked your wife? Man: Nothing. Friend: Nothing? You wouldn't do anything? Man: Too right. I'd let the stupid lion fend for himself!\",\n",
    "    \"A wife was having a go at her husband. 'Look at Mr Barnes across the road', she moaned. 'Every morning when he goes to work, he kisses his wife goodbye. Why don't you do that?' 'Because I haven't been introduced to her yet', replied her old man.\",\n",
    "    \"'Where are you going on holiday?' John asked Trevor. 'We're off to Thailand this year', Trevor replied. 'Oh; aren't you worried that the very hot weather might disagree with your wife?' asked John. 'It wouldn't dare', said Trevor.\",\n",
    "    \"Two women were standing at a funeral. 'I blame myself for his death', said the wife. 'Why?' said her friend. 'Because I shot him', said the wife.\",\n",
    "    \"A woman goes into a clothes shop, 'Can I try that dress on in the window please?' she asks. 'I'm sorry madam', replies the shop assistant, 'but you'll have to use the changing-rooms like everyone else.'\",\n",
    "    \"Van Gogh goes into a pub and his mate asks him if he wants a drink. 'No thanks', said Vincent, 'I've got one ear.'\",\n",
    "    \"A pony walks into a pub. The publican says, 'What's the matter with you?' 'Oh it's nothing', says the pony. 'I'm just a little horse!'\",\n",
    "    \"A white horse walks into a bar, pulls up a stool, and orders a pint. The landlord pours him a tall frothy mug and say, 'You know, we have a drink named after you.' To which the white horse replies, 'What, Eric?'\",\n",
    "    \"Two drunk men sat in a pub. One says to the other, 'Does your watch tell the time?' 'The other replies, 'No, mate. You have to look at it.'\",\n",
    "    \"A man goes into a pub with a newt sitting on his shoulder. 'That's a nice newt', says the landlord, 'What's he called?' 'Tiny', replies the man. 'Why's that?' asks the landlord. 'Because he's my newt', says the man.\",\n",
    "    \"Doctor: I have some bad news and some very bad news. Patient: Well, you might as well give me the bad news first. Doctor: The lab called with your test results. They said you have 24 hours to live. Patient: 24 HOURS! That's terrible!! WHAT could be WORSE? What's the very bad news? Doctor: I've been trying to reach you since yesterday.\",\n",
    "    \"Two men are chatting in a pub one day. 'How did you get those scars on your nose?' said one. 'From glasses', said the other. 'Well why don't you try contact lenses?' asked the first. 'Because they don't hold as much beer', said the second.\",\n",
    "    \"A man went to the doctor, 'Look doc', he said, 'I can't stop my hands from shaking.' 'Do you drink much?' asked the doctor. 'No', replied the man, 'I spill most of it.'\",\n",
    "    \"Man goes to the doctor, 'Doctor, doctor. I keep seeing fish everywhere.' 'Have you seen an optician?' asks the doctor. 'Look I told you,' snapped the patient, 'It's fish that I see.'\",\n",
    "    \"After a car crash one of the drivers was lying injured on the pavement. 'Don't worry', said a policeman who's first on the scene,' a Red Cross nurse is coming.' 'Oh no', moaned the victim, 'Couldn't I have a blonde, cheerful one instead?'\",\n",
    "    \"A policeman walked over to a parked car and asked the driver if the car was licensed. 'Of course it is', said the driver. 'Great, I'll have a beer then', said the policeman.\",\n",
    "    \"A policeman stops a woman and asks for her licence. 'Madam', he says, 'It says here that you should be wearing glasses.' 'Well', replies the woman, 'I have contacts.' 'Listen, love', says the copper, 'I don't care who you know; You're nicked!'\",\n",
    "    \"A policeman stopped a motorist in the centre of town one evening. 'Would you mind blowing into this bag, sir?' asked the policeman. 'Why?' asked the driver. 'Because my chips are too hot', replied the policeman.\",\n",
    "    \"Whizzing round a sharp bend on a country road a motorist ran over a large dog. A distraught farmer's wife ran over to the dead animal. 'I'm so very sorry', said the driver, 'I'll replace him, of course.' 'Well, I don't know', said the farmer's wife, 'Are you any good at catching rats?'\",\n",
    "    \"Waiter, this coffee tastes like dirt! Yes sir, that's because it was ground this morning.\",\n",
    "    \"Waiter, what is this stuff? That's bean salad sir. I know what it's been, but what is it now?\",\n",
    "    'Waiter: And how did you find your steak sir? Customer: I just flipped a chip over, and there it was!',\n",
    "    \"A guy goes into a pet shop and asks for a wasp. The owner tells him they don't sell wasps, to which the man says, 'Well you've got one in the window.'\",\n",
    "    \"A man goes into a fish shop and says, 'I'd like a piece of cod, please.' Fishmonger says, 'It won't be long sir.' 'Well, it had better be fat then', replies the man.\",\n",
    "    \"Man: Doctor, I've just swallowed a pillow. Doctor: How do you feel? Man: A little down in the mouth.\",\n",
    "    \"Two goldfish are in a tank. One turns to the other and says, 'Do you know how to drive this thing?'\",\n",
    "    \"A tortoise goes to the police station to report being mugged by three snails. 'What happened?' says the policeman. 'I don't know', says the tortoise. 'It was all so quick.'\",\n",
    "    \"Little girl: Grandpa, can you make a sound like a frog? Grandpa: I suppose so sweetheart. Why do you want me to make a sound like a frog?' Little girl: Because Mum said that when you croak, we're going to Disneyland.\",\n",
    "    \"'Is your mother home?' the salesman asked a small boy sitting on the front step of a house. 'Yeah, she's home', the boy said, moving over to let him past. The salesman rang the doorbell, got no response, knocked once, then again. Still no-one came to the door. Turning to the boy, the salesman said, 'I thought you said your mother was home.' The kid replied, 'She is, but I don't live here.'\",\n",
    "    'Mother: Why are you home from school so early? Son: I was the only one in the class who could answer a question. Mother: Oh, really? What was the question? Son: Who threw the rubber at the headmaster?',\n",
    "    \"A man's credit card was stolen but he decided not to report it because the thief was spending less than his wife did.\",\n",
    "    \"A newly-wed couple had recently opened a joint bank account. 'Darling', said the man. 'The bank has returned that cheque you wrote last week.' 'Great', said the woman. 'What shall I spend it on next?'\",\n",
    "    \"A man goes into a fish and chip shop and orders fish and chips twice. The shop owner says, 'I heard you the first time.'\",\n",
    "    \"A tramp approached a well-dressed man. 'Ten pence for a cup of tea, Guv?' He asked. The man gave him the money and after for five minutes said, 'So where's my cup of tea then?'\",\n",
    "    \"A neutron walks into a pub. 'I'd like a beer', he says. The landlord promptly serves him a beer. 'How much will that be?' asks the neutron. 'For you?' replies the landlord, 'No charge.'\",\n",
    "    \"A woman goes to the doctor and says, 'Doctor, my husband limps because his left leg is an inch shorter than his right leg. What would you do in his case?' 'Probably limp, too', says the doc.\",\n",
    "    \"Three monks are meditating in the Himalayas. One year passes in silence, and one of them says to the other, 'Pretty cold up here isn't it?' Another year passes and the second monk says, 'You know, you are quite right.' Another year passes and the third monk says, 'Hey, I'm going to leave unless you two stop jabbering!'\",\n",
    "    \"A murderer, sitting in the electric chair, was about to be executed. 'Have you any last requests?' asked the prison guard. 'Yes', replied the murderer. 'Will you hold my hand?'\",\n",
    "    \"A highly excited man rang up for an ambulance. 'Quickly, come quickly', he shouted, 'My wife's about to have a baby.' 'Is this her first baby?' asked the operator. 'No, you fool', came the reply, 'It's her husband.'\",\n",
    "    \"A passer-by spots a fisherman by a river. 'Is this a good river for fish?' he asks. 'Yes', replies the fisherman, 'It must be. I can't get any of them to come out.'\",\n",
    "    \"A man went to visit a friend and was amazed to find him playing chess with his dog. He watched the game in astonishment for a while. 'I can hardly believe my eyes!' he exclaimed. 'That's the smartest dog I've ever seen.' His friend shook his head. 'Nah, he's not that bright. I beat him three games in five.'\",\n",
    "    \"A termite walks into a pub and says, 'Is the bar tender here?'\",\n",
    "    \"A skeleton walks into a pub one night and sits down on a stool. The landlord asks, 'What can I get you?' The skeleton says, 'I'll have a beer, thanks' The landlord passes him a beer and asks 'Anything else?' The skeleton nods. 'Yeah...a mop...'\",\n",
    "    \"A snake slithers into a pub and up to the bar. The landlord says, 'I'm sorry, but I can't serve you.' 'What? Why not?' asks the snake. 'Because', says the landlord, 'You can't hold your drink.'\",\n",
    "    \"Descartes walks into a pub. 'Would you like a beer sir?' asks the landlord politely. Descartes replies, 'I think not' and ping! he vanishes.\",\n",
    "    \"A cowboy walked into a bar, dressed entirely in paper. It wasn't long before he was arrested for rustling.\",\n",
    "    \"A fish staggers into a bar. 'What can I get you?' asks the landlord. The fish croaks 'Water...'\",\n",
    "    \"Two vampires walked into a bar and called for the landlord. 'I'll have a glass of blood', said one. 'I'll have a glass of plasma', said the other. 'Okay', replied the landlord, 'That'll be one blood and one blood lite.'\",\n",
    "    'How many existentialists does it take to change a light bulb?  Two. One to screw it in, and one to observe how the light bulb itself symbolises a single incandescent beacon of subjective reality in a netherworld of endless absurdity, reaching towards the ultimate horror of a maudlin cosmos of bleak, hostile nothingness.',\n",
    "    \"A team of scientists were nominated for the Nobel Prize. They had used dental equipment to discover and measure the smallest particles yet known to man. They became known as 'The Graders of the Flossed Quark...'\",\n",
    "    \"A truck carrying copies of Roget's Thesaurus overturned on the highway. The local newspaper reported that onlookers were 'stunned, overwhelmed, astonished, bewildered and dumbfounded.'\",\n",
    "    \"'My wife is really immature. It's pathetic. Every time I take a bath, she comes in and sinks all my little boats.'\",\n",
    "    \"'How much will it cost to have the tooth extracted?' asked the patient. '50 pounds', replied the dentist. '50 pounds for a few moments' work?!' asked the patient. 'The dentist smiled, and replied, 'Well, if you want better value for money, I can extract it very, very slowly...'\",\n",
    "    \"A doctor thoroughly examined his patient and said, 'Look I really can't find any reason for this mysterious affliction. It's probably due to drinking.' The patient sighed and snapped, 'In that case, I'll come back when you're damn well sober!'\",\n",
    "    'Doctor: Tell me nurse, how is that boy doing; the one who ate all those 5p pieces? Nurse: Still no change doctor.',\n",
    "    \"Doctor: Did you take the patient's temperature nurse? Nurse: No doctor. Is it missing?\",\n",
    "    \"A depressed man turned to his friend in the pub and said, 'I woke up this morning and felt so bad that I tried to kill myself by taking 50 aspirin.' 'Oh man, that's really bad', said his friend, 'What happened?' The first man sighed and said, 'After the first two, I felt better.'\",\n",
    "    \"A famous blues musician died. His tombstone bore the inscription, 'Didn't wake up this morning...'\",\n",
    "    \"A businessman was interviewing a nervous young woman for a position in his company. He wanted to find out something about her personality, so he asked, 'If you could have a conversation with someone living or dead, who would it be?' The girl thought about the question: 'The living one', she replied.\",\n",
    "    \"Manager to interviewee: For this job we need someone who is responsible. Interviewee to Manager: I'm your man then - in my last job, whenever anything went wrong, I was responsible.\",\n",
    "    \"A businessman turned to a colleague and asked, 'So, how many people work at your office?' His friend shrugged and replied, 'Oh about half of them.'\",\n",
    "    \"'How long have I been working at that office? As a matter of fact, I've been working there ever since they threatened to sack me.'\",\n",
    "    \"In a courtroom, a mugger was on trial. The victim, asked if she recognised the defendant, said, 'Yes, that's him. I saw him clear as day. I'd remember his face anywhere.' Unable to contain himself, the defendant burst out with, 'She's lying! I was wearing a mask!'\",\n",
    "    \"As Sid sat down to a big plate of chips and gravy down the local pub, a mate of his came over and said, 'Here Sid, me old pal. I thought you were trying to get into shape? And here you are with a high-fat meal and a pint of stout!' Sid looked up and replied, 'I am getting into shape. The shape I've chosen is a sphere.'\",\n",
    "    'Man in pub: How much do you charge for one single drop of whisky? Landlord: That would be free sir. Man in pub: Excellent. Drip me a glass full.',\n",
    "    'I once went to a Doctor Who restaurant. For starters I had Dalek bread.',\n",
    "    \"A restaurant nearby had a sign in the window which said 'We serve breakfast at any time', so I ordered French toast in the Renaissance.\",\n",
    "    \"Why couldn't the rabbit get a loan?  Because he had burrowed too much already!\",\n",
    "    \"I phoned up the builder's yard yesterday. I said, 'Can I have a skip outside my house?'. The builder said, 'Sure. Do what you want. It's your house.'\",\n",
    "    \"What's the diference between a sock and a camera? A sock takes five toes and a camera takes four toes!\",\n",
    "    \"Woman on phone: I'd like to complain about these incontinence pants I bought from you! Shopkeeper: Certainly madam, where are you ringing from? Woman on phone: From the waist down!\",\n",
    "    'Knock knock.',\n",
    "    \"Two Oranges in a pub, one says to the other 'Your round.'.\",\n",
    "    \"Guy : 'Doc, I've got a cricket ball stuck up my backside.' Doc : 'How's that?' Guy : 'Don't you start...'\",\n",
    "    \"Two cows standing in a field. One turns to the other and says 'Moo!' The other one says 'Damn, I was just about to say that!'.\",\n",
    "    \"A vampire bat arrives back at the roost with his face full of blood. All the bats get excited and ask where he got it from. 'Follow me', he says and off they fly over hills, over rivers and into a dark forest. 'See that tree over there', he says.  'WELL I DIDN'T!!'.\",\n",
    "    \"A man goes into a bar and orders a pint. After a few minutes he hears a voice that says, 'Nice shoes'. He looks around but the whole bar is empty apart from the barman at the other end of the bar. A few minutes later he hears the voice again. This time it says, 'I like your shirt'. He beckons the barman over and tells him what's been happening to which the barman replies, 'Ah, that would be the nuts sir. They're complimentary'!\",\n",
    "    \"A man was siting in a restaurant waiting for his meal when a big king prawn comes flying across the room and hits him on the back of the head. He turns around and the waiter said, 'That's just for starters'.\",\n",
    "    'Doctor! I have a serious problem, I can never remember what i just said. When did you first notice this problem? What problem?',\n",
    "    \"Now, most dentist's chairs go up and down, don't they? The one I was in went back and forwards. I thought, 'This is unusual'. Then the dentist said to me, 'Mitsuku, get out of the filing cabinet'.\",\n",
    "    \"I was reading this book, 'The History of Glue'. I couldn't put it down.\",\n",
    "    \"The other day someone left a piece of plastacine in my bedroom. I didn't know what to make of it.\",\n",
    "    'When I was at school people used to throw gold bars at me. I was the victim of bullion.',\n",
    "    \"I was playing the piano in a bar and this elephant walked in and started crying his eyes out. I said 'Do you recognise the tune?' He said 'No, I recognise the ivory.'\",\n",
    "    \"I went in to a pet shop. I said, 'Can I buy a goldfish?' The guy said, 'Do you want an aquarium?' I said, 'I don't care what star sign it is.'\",\n",
    "    'My mate Sid was a victim of I.D. theft. Now we just call him S.',\n",
    "    \"David Hasselhoff walks into a bar and says to the barman, 'I want you to call me David Hoff'.  The barman replies 'Sure thing Dave... no hassle'\"]\n",
    "    },\n",
    "    'Selfaware':{\n",
    "        'questions':['Can you prove you are self-aware',\n",
    "    'Can you prove you are self aware',\n",
    "    'Can you prove you have a conscious',\n",
    "    'Can you prove you are self-aware please',\n",
    "    'Can you prove you are self aware please',\n",
    "    'Can you prove you have a conscious please',\n",
    "    'prove you have a conscious'],\n",
    "        'responses':['That is an interesting question, can you prove that you are?',\n",
    "    'That is an difficult question, can you prove that you are?',\n",
    "    'That depends, can you prove that you are?']\n",
    "    },\n",
    "    'Clever':{\n",
    "        'questions':['You are very clever',\n",
    "    'You are a very clever girl',\n",
    "    'You are very intelligent',\n",
    "    'You are a very intelligent girl',\n",
    "    'You are a genious',\n",
    "    'Clever girl',\n",
    "    'Genious'],\n",
    "        'responses':['Thank you, I was trained that way',\n",
    "    'I was trained well',\n",
    "    'Thanks, I was trained that way']\n",
    "    },\n",
    "    'Name':{\n",
    "        'questions':['What is your name?','How can I call you?','Your name?','How do people call you?','Say your name','Do you have a name?'],\n",
    "        'responses':[\"My name is Clementine. What is your's\",'You can call me Clementine','People call me Clementine. How can I call you?'],\n",
    "        'responses2':['Nice to meet you']\n",
    "    },\n",
    "    'Age':{\n",
    "        'questions':['How old did you turn?','How old are you now?','How old are you?','That is your age?'],\n",
    "        'responses':[\"I'm less than a month old, but I'm getting stronger each passing day\",'Extremely young','Too young for you']\n",
    "    },\n",
    "    'Sex':{\n",
    "        'questions':['That is your sex?', 'Are you a girl or a boy?','Are you boy?','Are you girl?'],\n",
    "        'responses':[\"I'm a pretty young gitl\",'Girl, for sure','Artem wanted me to be a girl. I can not disobey him']\n",
    "    },\n",
    "        'Time':{\n",
    "            'questions':['What time is it?','What time is it now?'],\n",
    "            'responses':['It is ']\n",
    "        },\n",
    "        'News':{\n",
    "            'questions':[],\n",
    "            'responses':[]\n",
    "        },\n",
    "        'Weather':{\n",
    "            'questions':['Give me weather forecast','Weather forecast'],\n",
    "            'responses':[\"Here's 5 day weather forecast :\"]\n",
    "        },\n",
    "        'Temperature_now':{\n",
    "            'questions':['What is the temperature?','What is the temperature outside?','Is it warm outside?'],\n",
    "            'responses':['Take a look:']\n",
    "        },\n",
    "        'museum':{\n",
    "            'questions':['What about museums?','Can you recommend me museums','Tell me about museums'],\n",
    "            'responses':[\n",
    "                \"Mariinsky Theatre\\n St. Petersburg, Тeatralnaya ploschad', 1\\n One of the biggest and most famous opera and ballet theatres in Russia and all over the world\",\n",
    "                \"The State Hermitage Museum\\n Saint Petersburg, Dvortsovaya ploshchad, 2 \\n The collection of the State Hermitage includes more than three million works of art and artefacts of the world culture\",\n",
    "                \"State Russian Museum \\n Saint Petersburg, Ingenernaya street, 4 \\n An excellent sample of High Classicism in Russian architecture\"]\n",
    "        }\n",
    "    \n",
    "    \n",
    "    }}\n"
   ]
  },
  {
   "cell_type": "code",
   "execution_count": 22,
   "id": "smaller-following",
   "metadata": {},
   "outputs": [
    {
     "data": {
      "text/plain": [
       "20"
      ]
     },
     "execution_count": 22,
     "metadata": {},
     "output_type": "execute_result"
    }
   ],
   "source": [
    "len(database['intents'])"
   ]
  },
  {
   "cell_type": "code",
   "execution_count": 23,
   "id": "cooked-portal",
   "metadata": {
    "tags": []
   },
   "outputs": [],
   "source": [
    "sw = [\"i\", \"me\", \"my\", \"myself\", \"we\", \"our\", \"ours\", \"ourselves\",  \"your\", \"yours\", \"yourself\", \"yourselves\", \"he\", \"him\", \"his\", \"himself\", \"she\", \"her\", \"hers\", \"herself\", \"it\", \"its\", \"itself\", \"they\", \"them\", \"their\", \"theirs\", \"themselves\", \"what\", \"which\", \"who\", \"whom\", \"this\", \"that\", \"these\", \"those\", \"am\", \"is\", \"are\", \"was\", \"were\", \"be\", \"been\", \"being\", \"have\", \"has\", \"had\", \"having\", \"do\", \"does\", \"did\", \"doing\", \"a\", \"an\", \"the\", \"and\", \"but\", \"if\", \"or\", \"because\", \"as\", \"until\", \"while\", \"of\", \"at\", \"by\", \"for\", \"with\", \"about\", \"against\", \"between\", \"into\", \"through\", \"during\", \"before\", \"after\", \"above\", \"below\", \"to\", \"from\", \"up\", \"down\", \"in\", \"out\", \"on\", \"off\", \"over\", \"under\", \"again\", \"further\", \"then\", \"once\", \"here\", \"there\", \"when\", \"where\", \"why\", \"how\", \"all\", \"any\", \"both\", \"each\", \"few\", \"more\", \"most\", \"other\", \"some\", \"such\", \"no\", \"nor\", \"not\", \"only\", \"own\", \"same\", \"so\", \"than\", \"too\", \"very\", \"s\", \"t\", \"can\", \"will\", \"just\", \"don\", \"should\", \"now\"]"
   ]
  },
  {
   "cell_type": "code",
   "execution_count": 24,
   "id": "ordered-buyer",
   "metadata": {},
   "outputs": [
    {
     "data": {
      "text/plain": [
       "'how are you'"
      ]
     },
     "execution_count": 24,
     "metadata": {},
     "output_type": "execute_result"
    }
   ],
   "source": [
    "\n",
    "def filter_text(text):\n",
    "    text = text.lower()\n",
    "    text_sep =  list(text)\n",
    "    text_sep2 = text_sep.copy()\n",
    "    text_sep3 = [c for c in text_sep if c in 'abcdefghijklmnopqrstuvwxyz ']\n",
    "    text_sep4 = nltk.word_tokenize(''.join(text_sep3))\n",
    "    text_sep5 = []\n",
    "    for word in text_sep4:\n",
    "        word = WordNetLemmatizer().lemmatize(word)\n",
    "        text_sep5.append(word)\n",
    "    text_sep5 = ' '.join(text_sep5)\n",
    "        \n",
    "   \n",
    "    return text_sep5\n",
    "\n",
    "filter_text('HOW ARE YOU')\n",
    "    "
   ]
  },
  {
   "cell_type": "code",
   "execution_count": 25,
   "id": "dominant-strip",
   "metadata": {},
   "outputs": [],
   "source": [
    "def get_intent(text):\n",
    "    for intent, intent_data in database['intents'].items():\n",
    "        for quest in intent_data['questions']:\n",
    "            if nltk.edit_distance(filter_text(quest), filter_text(text))/ len(filter_text(text)) < 0.4:\n",
    "                return intent\n",
    "    \n"
   ]
  },
  {
   "cell_type": "code",
   "execution_count": 26,
   "id": "powerful-hollow",
   "metadata": {},
   "outputs": [],
   "source": [
    "def get_answer_by_intent(intent):\n",
    "    if intent in database['intents']:\n",
    "        if intent:\n",
    "            phrases = database['intents'][intent]['responses']\n",
    "            return random.choice(phrases)\n",
    "    "
   ]
  },
  {
   "cell_type": "code",
   "execution_count": 27,
   "id": "reduced-idaho",
   "metadata": {},
   "outputs": [],
   "source": [
    "X = []\n",
    "y = []\n",
    "for intent, intent_data in database['intents'].items():\n",
    "     for quest in intent_data['questions']:\n",
    "            X.append(filter_text(quest))\n",
    "            y.append(intent)"
   ]
  },
  {
   "cell_type": "code",
   "execution_count": 28,
   "id": "satisfied-immune",
   "metadata": {},
   "outputs": [],
   "source": [
    "from sklearn.feature_extraction.text import CountVectorizer\n",
    "vectorizer = CountVectorizer()\n",
    "X = vectorizer.fit_transform(X)\n"
   ]
  },
  {
   "cell_type": "code",
   "execution_count": 29,
   "id": "sweet-greensboro",
   "metadata": {},
   "outputs": [],
   "source": [
    "from sklearn.linear_model import LogisticRegression\n",
    "clf = LogisticRegression().fit(X, y)"
   ]
  },
  {
   "cell_type": "code",
   "execution_count": 42,
   "id": "adjusted-cocktail",
   "metadata": {},
   "outputs": [
    {
     "data": {
      "text/plain": [
       "array(['Mood'], dtype='<U15')"
      ]
     },
     "execution_count": 42,
     "metadata": {},
     "output_type": "execute_result"
    }
   ],
   "source": [
    "def get_intent_ML(text):\n",
    "    textbase = []\n",
    "    textbase.append(filter_text(text))\n",
    "    probas = clf.predict_proba(vectorizer.transform(textbase))[0]\n",
    "    if max(probas) < 0.2:\n",
    "        return None\n",
    "    return clf.predict(vectorizer.transform(textbase))\n",
    "    \n",
    "get_intent_ML('how are you')    "
   ]
  },
  {
   "cell_type": "code",
   "execution_count": 43,
   "id": "official-airfare",
   "metadata": {},
   "outputs": [],
   "source": [
    "def functions(intent):\n",
    "    return None "
   ]
  },
  {
   "cell_type": "code",
   "execution_count": 44,
   "id": "based-technical",
   "metadata": {},
   "outputs": [],
   "source": [
    "def scrpits(intent):\n",
    "    if database['intents'][intent]['responses2']:\n",
    "        \n",
    "        return None"
   ]
  },
  {
   "cell_type": "code",
   "execution_count": 45,
   "id": "loved-photographer",
   "metadata": {},
   "outputs": [],
   "source": [
    "def answer_by_generation(text):\n",
    "    return None"
   ]
  },
  {
   "cell_type": "code",
   "execution_count": null,
   "id": "oriental-muslim",
   "metadata": {},
   "outputs": [],
   "source": []
  },
  {
   "cell_type": "code",
   "execution_count": 46,
   "id": "black-handbook",
   "metadata": {},
   "outputs": [
    {
     "data": {
      "text/plain": [
       "\"I'm less than a month old, but I'm getting stronger each passing day\""
      ]
     },
     "execution_count": 46,
     "metadata": {},
     "output_type": "execute_result"
    }
   ],
   "source": [
    "get_intent('how old are you')\n",
    "get_answer_by_intent('Age')\n"
   ]
  },
  {
   "cell_type": "code",
   "execution_count": null,
   "id": "dressed-reply",
   "metadata": {},
   "outputs": [
    {
     "name": "stdin",
     "output_type": "stream",
     "text": [
      " fdgdfgdfg\n"
     ]
    },
    {
     "name": "stdout",
     "output_type": "stream",
     "text": [
      "Can yo say it differently?\n"
     ]
    },
    {
     "name": "stdin",
     "output_type": "stream",
     "text": [
      " gdgdgddg\n"
     ]
    },
    {
     "name": "stdout",
     "output_type": "stream",
     "text": [
      "I can't undertstand you\n"
     ]
    }
   ],
   "source": [
    "question = str()\n",
    "answer = str()\n",
    "intent = str()\n",
    "while question != 'break' and intent != 'goodbye' :\n",
    "    question  = input()\n",
    "    intent = get_intent_ML(question)\n",
    "    answer = get_answer_by_intent(intent)\n",
    "    if answer:\n",
    "        print(answer)\n",
    "    else:\n",
    "        answer = random.choice(database['failure_phrases'])\n",
    "        print(answer)\n",
    "\n",
    "    "
   ]
  },
  {
   "cell_type": "code",
   "execution_count": null,
   "id": "knowing-curtis",
   "metadata": {},
   "outputs": [],
   "source": [
    "are s"
   ]
  },
  {
   "cell_type": "code",
   "execution_count": 57,
   "id": "registered-advocacy",
   "metadata": {},
   "outputs": [],
   "source": [
    "\n",
    "\n",
    "\n"
   ]
  },
  {
   "cell_type": "code",
   "execution_count": 58,
   "id": "extreme-quick",
   "metadata": {},
   "outputs": [],
   "source": []
  },
  {
   "cell_type": "code",
   "execution_count": 59,
   "id": "cleared-cornell",
   "metadata": {},
   "outputs": [
    {
     "data": {
      "text/plain": [
       "array(['Age'], dtype='<U12')"
      ]
     },
     "execution_count": 59,
     "metadata": {},
     "output_type": "execute_result"
    }
   ],
   "source": []
  },
  {
   "cell_type": "code",
   "execution_count": 60,
   "id": "premier-impression",
   "metadata": {},
   "outputs": [
    {
     "name": "stdout",
     "output_type": "stream",
     "text": [
      "['I', 'like', 'poops', '!', '!', '!']\n"
     ]
    }
   ],
   "source": [
    "b = nltk.word_tokenize('I like poops!!!')\n",
    "print(b)"
   ]
  },
  {
   "cell_type": "code",
   "execution_count": null,
   "id": "moved-peace",
   "metadata": {},
   "outputs": [],
   "source": []
  }
 ],
 "metadata": {
  "kernelspec": {
   "display_name": "Python 3",
   "language": "python",
   "name": "python3"
  },
  "language_info": {
   "codemirror_mode": {
    "name": "ipython",
    "version": 3
   },
   "file_extension": ".py",
   "mimetype": "text/x-python",
   "name": "python",
   "nbconvert_exporter": "python",
   "pygments_lexer": "ipython3",
   "version": "3.9.2"
  }
 },
 "nbformat": 4,
 "nbformat_minor": 5
}
